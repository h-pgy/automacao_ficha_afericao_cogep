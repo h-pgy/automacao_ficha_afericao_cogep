{
 "cells": [
  {
   "cell_type": "code",
   "execution_count": 1,
   "id": "c982fd96-e8ac-43b7-b7dd-a5dbfb70f413",
   "metadata": {},
   "outputs": [],
   "source": [
    "import pandas as pd\n",
    "import os\n",
    "from docx import Document\n",
    "import re"
   ]
  },
  {
   "cell_type": "code",
   "execution_count": 2,
   "id": "244a69eb-65c2-4bfb-a977-709a73a173c2",
   "metadata": {},
   "outputs": [],
   "source": [
    "data_path = os.path.abspath('data')"
   ]
  },
  {
   "cell_type": "code",
   "execution_count": 3,
   "id": "82ffe21d-ab5e-4357-8a1d-fbaf010acfa1",
   "metadata": {},
   "outputs": [],
   "source": [
    "excel_file = os.path.join(data_path, 'Ficha_Afericao.xlsm')"
   ]
  },
  {
   "cell_type": "code",
   "execution_count": 4,
   "id": "3af4b8bf-6e56-4c38-a51e-0057153db1b4",
   "metadata": {},
   "outputs": [],
   "source": [
    "df = pd.read_excel(excel_file, usecols=range(4))"
   ]
  },
  {
   "cell_type": "code",
   "execution_count": 5,
   "id": "bad5aa06-d25e-41f3-9612-b00325173e65",
   "metadata": {},
   "outputs": [
    {
     "data": {
      "text/html": [
       "<div>\n",
       "<style scoped>\n",
       "    .dataframe tbody tr th:only-of-type {\n",
       "        vertical-align: middle;\n",
       "    }\n",
       "\n",
       "    .dataframe tbody tr th {\n",
       "        vertical-align: top;\n",
       "    }\n",
       "\n",
       "    .dataframe thead th {\n",
       "        text-align: right;\n",
       "    }\n",
       "</style>\n",
       "<table border=\"1\" class=\"dataframe\">\n",
       "  <thead>\n",
       "    <tr style=\"text-align: right;\">\n",
       "      <th></th>\n",
       "      <th>Classificação</th>\n",
       "      <th>Documento</th>\n",
       "      <th>Nome</th>\n",
       "      <th>Cargo</th>\n",
       "    </tr>\n",
       "  </thead>\n",
       "  <tbody>\n",
       "    <tr>\n",
       "      <th>0</th>\n",
       "      <td>1</td>\n",
       "      <td>XXXXXXXX-1</td>\n",
       "      <td>BRUNO LUIS SIMÕES GERALDO</td>\n",
       "      <td>Analista de Políticas Públicas</td>\n",
       "    </tr>\n",
       "    <tr>\n",
       "      <th>1</th>\n",
       "      <td>2</td>\n",
       "      <td>XXXXXXXX-2</td>\n",
       "      <td>JUSSARA MARIA DOS SANTOS</td>\n",
       "      <td>Analista de Políticas Públicas</td>\n",
       "    </tr>\n",
       "    <tr>\n",
       "      <th>2</th>\n",
       "      <td>3</td>\n",
       "      <td>XXXXXXXX-3</td>\n",
       "      <td>JOICE APARECIDA SILVA</td>\n",
       "      <td>Analista de Políticas Públicas</td>\n",
       "    </tr>\n",
       "    <tr>\n",
       "      <th>3</th>\n",
       "      <td>4</td>\n",
       "      <td>XXXXXXXX-4</td>\n",
       "      <td>THIAGO OLIVEIRA CHAVES</td>\n",
       "      <td>Analista de Políticas Públicas</td>\n",
       "    </tr>\n",
       "    <tr>\n",
       "      <th>4</th>\n",
       "      <td>5</td>\n",
       "      <td>XXXXXXXX-5</td>\n",
       "      <td>RICARDO JESUS</td>\n",
       "      <td>Analista de Políticas Públicas</td>\n",
       "    </tr>\n",
       "    <tr>\n",
       "      <th>5</th>\n",
       "      <td>6</td>\n",
       "      <td>XXXXXXXX-6</td>\n",
       "      <td>SILVA MEIRELES</td>\n",
       "      <td>Analista de Políticas Públicas</td>\n",
       "    </tr>\n",
       "    <tr>\n",
       "      <th>6</th>\n",
       "      <td>7</td>\n",
       "      <td>XXXXXXXX-7</td>\n",
       "      <td>ANA CRISTINA PRADO</td>\n",
       "      <td>Analista de Políticas Públicas</td>\n",
       "    </tr>\n",
       "    <tr>\n",
       "      <th>7</th>\n",
       "      <td>8</td>\n",
       "      <td>XXXXXXXX-8</td>\n",
       "      <td>MARCIA MORALEZ</td>\n",
       "      <td>Analista de Políticas Públicas</td>\n",
       "    </tr>\n",
       "    <tr>\n",
       "      <th>8</th>\n",
       "      <td>9</td>\n",
       "      <td>XXXXXXXX-9</td>\n",
       "      <td>REGINALDO FREITAS</td>\n",
       "      <td>Analista de Políticas Públicas</td>\n",
       "    </tr>\n",
       "    <tr>\n",
       "      <th>9</th>\n",
       "      <td>10</td>\n",
       "      <td>XXXXXXXX-10</td>\n",
       "      <td>ROSANA GARCIA</td>\n",
       "      <td>Analista de Políticas Públicas</td>\n",
       "    </tr>\n",
       "    <tr>\n",
       "      <th>10</th>\n",
       "      <td>11</td>\n",
       "      <td>XXXXXXXX-11</td>\n",
       "      <td>PEDRO HENRIQUE DOS SANTOS</td>\n",
       "      <td>Analista de Políticas Públicas</td>\n",
       "    </tr>\n",
       "  </tbody>\n",
       "</table>\n",
       "</div>"
      ],
      "text/plain": [
       "    Classificação    Documento                      Nome   \\\n",
       "0               1   XXXXXXXX-1  BRUNO LUIS SIMÕES GERALDO   \n",
       "1               2   XXXXXXXX-2   JUSSARA MARIA DOS SANTOS   \n",
       "2               3   XXXXXXXX-3      JOICE APARECIDA SILVA   \n",
       "3               4   XXXXXXXX-4     THIAGO OLIVEIRA CHAVES   \n",
       "4               5   XXXXXXXX-5              RICARDO JESUS   \n",
       "5               6   XXXXXXXX-6             SILVA MEIRELES   \n",
       "6               7   XXXXXXXX-7         ANA CRISTINA PRADO   \n",
       "7               8   XXXXXXXX-8             MARCIA MORALEZ   \n",
       "8               9   XXXXXXXX-9          REGINALDO FREITAS   \n",
       "9              10  XXXXXXXX-10              ROSANA GARCIA   \n",
       "10             11  XXXXXXXX-11  PEDRO HENRIQUE DOS SANTOS   \n",
       "\n",
       "                             Cargo  \n",
       "0   Analista de Políticas Públicas  \n",
       "1   Analista de Políticas Públicas  \n",
       "2   Analista de Políticas Públicas  \n",
       "3   Analista de Políticas Públicas  \n",
       "4   Analista de Políticas Públicas  \n",
       "5   Analista de Políticas Públicas  \n",
       "6   Analista de Políticas Públicas  \n",
       "7   Analista de Políticas Públicas  \n",
       "8   Analista de Políticas Públicas  \n",
       "9   Analista de Políticas Públicas  \n",
       "10  Analista de Políticas Públicas  "
      ]
     },
     "execution_count": 5,
     "metadata": {},
     "output_type": "execute_result"
    }
   ],
   "source": [
    "df"
   ]
  },
  {
   "cell_type": "code",
   "execution_count": 6,
   "id": "f8cc8c47-6bbd-49e1-aad5-5ccc4b0618a5",
   "metadata": {},
   "outputs": [],
   "source": [
    "df = df.sort_values(by='Nome ')"
   ]
  },
  {
   "cell_type": "code",
   "execution_count": 7,
   "id": "0f245703-9452-4c57-8b85-f1cfa498951e",
   "metadata": {},
   "outputs": [],
   "source": [
    "word_path = os.path.join(data_path, 'Ficha de aferição - Análise fotográfica.docx')\n"
   ]
  },
  {
   "cell_type": "code",
   "execution_count": 8,
   "id": "646ed773-03ca-450f-bf8d-1f90407671a9",
   "metadata": {},
   "outputs": [],
   "source": [
    "def get_paragrafos(doc):\n",
    "    \n",
    "    interesse = []\n",
    "    for i, p in enumerate(doc.paragraphs):\n",
    "        if p.text.startswith('Classificação'):\n",
    "            dupla = (p, doc.paragraphs[i+1])\n",
    "            interesse.append(dupla)\n",
    "    \n",
    "    return interesse"
   ]
  },
  {
   "cell_type": "code",
   "execution_count": 9,
   "id": "1b91f1cc-b7d7-4e98-9b09-47d92df33fb7",
   "metadata": {},
   "outputs": [],
   "source": [
    "def colocar_nome(p, nome):\n",
    "    \n",
    "    pat = '<<nome do candidato \\d>>'\n",
    "    \n",
    "    chave = re.findall(pat, p.text)[0]\n",
    "    \n",
    "    p.text = p.text.replace(chave, nome)\n",
    "    \n",
    "    return p.text"
   ]
  },
  {
   "cell_type": "code",
   "execution_count": 10,
   "id": "98ffc889-8743-479c-991d-383a179547a6",
   "metadata": {},
   "outputs": [],
   "source": [
    "def colocar_doc(p, documento):\n",
    "    \n",
    "    pat = '<<documento \\d>>'\n",
    "    \n",
    "    chave = re.findall(pat, p.text)[0]\n",
    "    \n",
    "    p.text = p.text.replace(chave, documento)\n",
    "    \n",
    "    return p.text"
   ]
  },
  {
   "cell_type": "code",
   "execution_count": 11,
   "id": "ed7542ba-3770-4d57-8ece-7716f05b838d",
   "metadata": {},
   "outputs": [],
   "source": [
    "def gerar_grupos(df):\n",
    "\n",
    "    linhas = []\n",
    "    for i, row in df.iterrows():\n",
    "\n",
    "        linhas.append((row['Documento'], row['Nome ']))\n",
    "    grupos = []\n",
    "    ini = 0\n",
    "    for i in range(len(linhas)):\n",
    "\n",
    "        if i != 0 and (i%4)==0:\n",
    "            grupos.append(linhas[ini:i])\n",
    "            ini = i\n",
    "\n",
    "    grupos.append(linhas[ini:])\n",
    "    \n",
    "    return grupos"
   ]
  },
  {
   "cell_type": "code",
   "execution_count": 12,
   "id": "98f82c23-fe54-4d2b-87da-915206d20c0d",
   "metadata": {},
   "outputs": [],
   "source": [
    "grupos = gerar_grupos(df)"
   ]
  },
  {
   "cell_type": "code",
   "execution_count": 13,
   "id": "fab34e99-df3a-4099-9ae4-b590518d808d",
   "metadata": {},
   "outputs": [],
   "source": [
    "padrao_nome_doc = 'formulario_{num}.docx'\n",
    "\n",
    "for i, grupo in enumerate(grupos):\n",
    "    \n",
    "    doc = Document(word_path)\n",
    "    paragrafos = get_paragrafos(doc)\n",
    "    nome_doc = padrao_nome_doc.format(num=i)\n",
    "    pareado = list(zip(grupo, paragrafos))\n",
    "    \n",
    "    for pessoa, linhas in pareado:\n",
    "        colocar_doc(linhas[0], pessoa[0])\n",
    "        colocar_nome(linhas[1], pessoa[1])\n",
    "        doc.save(nome_doc)\n"
   ]
  },
  {
   "cell_type": "code",
   "execution_count": null,
   "id": "cd6bcc14-4a22-4abb-8219-a3a59d2e6dfc",
   "metadata": {},
   "outputs": [],
   "source": []
  }
 ],
 "metadata": {
  "kernelspec": {
   "display_name": "Python 3",
   "language": "python",
   "name": "python3"
  },
  "language_info": {
   "codemirror_mode": {
    "name": "ipython",
    "version": 3
   },
   "file_extension": ".py",
   "mimetype": "text/x-python",
   "name": "python",
   "nbconvert_exporter": "python",
   "pygments_lexer": "ipython3",
   "version": "3.8.8"
  }
 },
 "nbformat": 4,
 "nbformat_minor": 5
}
